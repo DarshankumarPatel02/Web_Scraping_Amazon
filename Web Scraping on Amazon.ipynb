{
 "cells": [
  {
   "cell_type": "code",
   "execution_count": 1,
   "id": "2f4751af",
   "metadata": {},
   "outputs": [
    {
     "name": "stdout",
     "output_type": "stream",
     "text": [
      "Requirement already satisfied: bs4 in c:\\users\\darsh\\anaconda3\\lib\\site-packages (0.0.2)Note: you may need to restart the kernel to use updated packages.\n",
      "\n",
      "Requirement already satisfied: beautifulsoup4 in c:\\users\\darsh\\anaconda3\\lib\\site-packages (from bs4) (4.11.1)\n",
      "Requirement already satisfied: soupsieve>1.2 in c:\\users\\darsh\\anaconda3\\lib\\site-packages (from beautifulsoup4->bs4) (2.3.1)\n"
     ]
    }
   ],
   "source": [
    "pip install bs4\n"
   ]
  },
  {
   "cell_type": "code",
   "execution_count": 2,
   "id": "7d128481",
   "metadata": {},
   "outputs": [
    {
     "name": "stdout",
     "output_type": "stream",
     "text": [
      "Requirement already satisfied: requests in c:\\users\\darsh\\anaconda3\\lib\\site-packages (2.28.1)Note: you may need to restart the kernel to use updated packages.\n",
      "\n",
      "Requirement already satisfied: charset-normalizer<3,>=2 in c:\\users\\darsh\\anaconda3\\lib\\site-packages (from requests) (2.0.4)\n",
      "Requirement already satisfied: certifi>=2017.4.17 in c:\\users\\darsh\\anaconda3\\lib\\site-packages (from requests) (2023.7.22)\n",
      "Requirement already satisfied: urllib3<1.27,>=1.21.1 in c:\\users\\darsh\\anaconda3\\lib\\site-packages (from requests) (1.26.11)\n",
      "Requirement already satisfied: idna<4,>=2.5 in c:\\users\\darsh\\anaconda3\\lib\\site-packages (from requests) (3.3)\n"
     ]
    }
   ],
   "source": [
    "pip install requests"
   ]
  },
  {
   "cell_type": "code",
   "execution_count": 3,
   "id": "1464bee4",
   "metadata": {},
   "outputs": [
    {
     "name": "stdout",
     "output_type": "stream",
     "text": [
      "Requirement already satisfied: lxml in c:\\users\\darsh\\anaconda3\\lib\\site-packages (4.9.1)\n",
      "Note: you may need to restart the kernel to use updated packages.\n"
     ]
    }
   ],
   "source": [
    "pip install lxml"
   ]
  },
  {
   "cell_type": "code",
   "execution_count": 4,
   "id": "efeda958",
   "metadata": {},
   "outputs": [
    {
     "name": "stdout",
     "output_type": "stream",
     "text": [
      "Requirement already satisfied: selenium in c:\\users\\darsh\\anaconda3\\lib\\site-packages (4.21.0)\n",
      "Requirement already satisfied: certifi>=2021.10.8 in c:\\users\\darsh\\anaconda3\\lib\\site-packages (from selenium) (2023.7.22)\n",
      "Requirement already satisfied: trio-websocket~=0.9 in c:\\users\\darsh\\anaconda3\\lib\\site-packages (from selenium) (0.11.1)\n",
      "Requirement already satisfied: typing_extensions>=4.9.0 in c:\\users\\darsh\\anaconda3\\lib\\site-packages (from selenium) (4.12.0)\n",
      "Requirement already satisfied: urllib3[socks]<3,>=1.26 in c:\\users\\darsh\\anaconda3\\lib\\site-packages (from selenium) (1.26.11)\n",
      "Requirement already satisfied: trio~=0.17 in c:\\users\\darsh\\anaconda3\\lib\\site-packages (from selenium) (0.25.1)\n",
      "Requirement already satisfied: attrs>=23.2.0 in c:\\users\\darsh\\anaconda3\\lib\\site-packages (from trio~=0.17->selenium) (23.2.0)\n",
      "Requirement already satisfied: outcome in c:\\users\\darsh\\anaconda3\\lib\\site-packages (from trio~=0.17->selenium) (1.3.0.post0)\n",
      "Requirement already satisfied: idna in c:\\users\\darsh\\anaconda3\\lib\\site-packages (from trio~=0.17->selenium) (3.3)\n",
      "Requirement already satisfied: cffi>=1.14 in c:\\users\\darsh\\anaconda3\\lib\\site-packages (from trio~=0.17->selenium) (1.15.1)\n",
      "Requirement already satisfied: sniffio>=1.3.0 in c:\\users\\darsh\\anaconda3\\lib\\site-packages (from trio~=0.17->selenium) (1.3.1)\n",
      "Requirement already satisfied: exceptiongroup in c:\\users\\darsh\\anaconda3\\lib\\site-packages (from trio~=0.17->selenium) (1.2.1)\n",
      "Requirement already satisfied: sortedcontainers in c:\\users\\darsh\\anaconda3\\lib\\site-packages (from trio~=0.17->selenium) (2.4.0)\n",
      "Requirement already satisfied: wsproto>=0.14 in c:\\users\\darsh\\anaconda3\\lib\\site-packages (from trio-websocket~=0.9->selenium) (1.2.0)\n",
      "Requirement already satisfied: PySocks!=1.5.7,<2.0,>=1.5.6 in c:\\users\\darsh\\anaconda3\\lib\\site-packages (from urllib3[socks]<3,>=1.26->selenium) (1.7.1)\n",
      "Requirement already satisfied: pycparser in c:\\users\\darsh\\anaconda3\\lib\\site-packages (from cffi>=1.14->trio~=0.17->selenium) (2.21)\n",
      "Requirement already satisfied: h11<1,>=0.9.0 in c:\\users\\darsh\\anaconda3\\lib\\site-packages (from wsproto>=0.14->trio-websocket~=0.9->selenium) (0.14.0)\n",
      "Note: you may need to restart the kernel to use updated packages.\n"
     ]
    }
   ],
   "source": [
    "pip install selenium"
   ]
  },
  {
   "cell_type": "code",
   "execution_count": 8,
   "id": "37251a25",
   "metadata": {},
   "outputs": [
    {
     "name": "stdout",
     "output_type": "stream",
     "text": [
      "product Title =  Marcelle Vitamin C + Peptide Collagen & Glow Moisturizer Day & Night Cream Brightening & Smoothing Vegan Cruelty-Free Hypoallergenic Non-Comedogenic Paraben-Free Fragrance-Free 50 mL\n",
      "Products price =  $34.39\n",
      "Overall rating =  3.8 out of 5 stars\n",
      "Total reviews =  18 ratings\n",
      "Availability =  In Stock\n",
      "product Title =  Glow Serum Propolis Moisturizeing All Type Skin\n",
      "Products price =  $19.99\n",
      "Overall rating =  4.2 out of 5 stars\n",
      "Total reviews =  66 ratings\n",
      "Availability =  In Stock\n",
      "product Title =  Garnier Aloe Vera Serum With Hyaluronic Acid and Aloe Replumping and Hydrating Suppler Skin that Glows Healthier Looking Skin For Normal to Combination Skin Vegan Formula Skin Naturals\n",
      "Products price =  $16.97\n",
      "Overall rating =  4.4 out of 5 stars\n",
      "Total reviews =  489 ratings\n",
      "Availability =  In Stock\n",
      "product Title =  CAROLINA HERRERA Bad Boy for Men Eau de Toilette Power Up Spray 3.4 Ounce\n",
      "Products price =  $91.49\n",
      "Overall rating =  4.6 out of 5 stars\n",
      "Total reviews =  16 ratings\n",
      "Availability =  In Stock\n",
      "product Title =  Dior Sauvage for Men Eau De Parfum Spray 2 Ounce 2 ounces\n",
      "Products price =  $202.54\n",
      "Overall rating =  4.6 out of 5 stars\n",
      "Total reviews =  4153 ratings\n",
      "Availability =  Only 7 left in stock.\n"
     ]
    }
   ],
   "source": [
    "# importing libraries\n",
    "from bs4 import BeautifulSoup\n",
    "from selenium import webdriver\n",
    "from selenium.webdriver.chrome.service import Service as ChromeService\n",
    "from selenium.webdriver.common.by import By\n",
    "from selenium.webdriver.chrome.options import Options\n",
    "import time\n",
    "\n",
    "def main(URL):\n",
    "    # setting up Chrome options\n",
    "    chrome_options = Options()\n",
    "    chrome_options.add_argument(\"--headless\")  # Ensure GUI is off\n",
    "    chrome_options.add_argument(\"--no-sandbox\")\n",
    "    chrome_options.add_argument(\"--disable-dev-shm-usage\")\n",
    "    chrome_options.add_argument('--disable-gpu')\n",
    "    chrome_options.add_argument('start-maximized')\n",
    "    chrome_options.add_argument('disable-infobars')\n",
    "    chrome_options.add_argument('--disable-extensions')\n",
    "\n",
    "    # opening our output file in append mode\n",
    "    with open(\"out.csv\", \"a\") as File:\n",
    "        # initiating the WebDriver\n",
    "        driver = webdriver.Chrome(service=ChromeService(), options=chrome_options)\n",
    "        \n",
    "        # Making the HTTP Request\n",
    "        driver.get(URL)\n",
    "        time.sleep(3)  # Let the page load completely\n",
    "\n",
    "        # Creating the Soup Object containing all data\n",
    "        soup = BeautifulSoup(driver.page_source, \"lxml\")\n",
    "        \n",
    "        # Close the browser\n",
    "        driver.quit()\n",
    "\n",
    "        # retrieving product title\n",
    "        try:\n",
    "            title = soup.find(\"span\", attrs={\"id\": 'productTitle'})\n",
    "            title_string = title.get_text(strip=True).replace(',', '') if title else \"NA\"\n",
    "        except AttributeError as e:\n",
    "            title_string = \"NA\"\n",
    "            print(f\"Error retrieving title: {e}\")\n",
    "        print(\"product Title = \", title_string)\n",
    "        File.write(f\"{title_string},\")\n",
    "\n",
    "    \n",
    "       # retrieving price\n",
    "        try:\n",
    "            price_whole = soup.find(\"span\", attrs={'class': 'a-price-whole'})\n",
    "            price_fraction = soup.find(\"span\", attrs={'class': 'a-price-fraction'})\n",
    "            if price_whole and price_fraction:\n",
    "                price_string = '$' + price_whole.get_text(strip=True).replace(',', '') + price_fraction.get_text(strip=True).replace(',', '')\n",
    "            else:\n",
    "                price = soup.find(\"span\", attrs={'id': 'priceblock_ourprice'}) or soup.find(\"span\", attrs={'id': 'priceblock_dealprice'})\n",
    "                price_string = price.get_text(strip=True).replace(',', '') if price else \"NA\"\n",
    "        except AttributeError as e:\n",
    "            price_string = \"NA\"\n",
    "            print(f\"Error retrieving price: {e}\")\n",
    "        print(\"Products price = \", price_string)\n",
    "        File.write(f\"{price_string},\")\n",
    "        \n",
    "        # retrieving product rating\n",
    "        try:\n",
    "            rating_span = soup.find(\"span\", {\"class\": \"a-icon-alt\"})\n",
    "            rating_string = rating_span.text.strip() if rating_span else \"NA\"\n",
    "        except AttributeError as e:\n",
    "            rating_string = \"NA\"\n",
    "            print(f\"Error retrieving rating: {e}\")\n",
    "\n",
    "        print(\"Overall rating = \", rating_string)\n",
    "        File.write(f\"{rating_string},\")\n",
    "\n",
    "        # retrieving review count\n",
    "        try:\n",
    "            review_count = soup.find(\"span\", attrs={'id': 'acrCustomerReviewText'})\n",
    "            review_count_string = review_count.get_text(strip=True).replace(',', '') if review_count else \"NA\"\n",
    "        except AttributeError as e:\n",
    "            review_count_string = \"NA\"\n",
    "            print(f\"Error retrieving review count: {e}\")\n",
    "        print(\"Total reviews = \", review_count_string)\n",
    "        File.write(f\"{review_count_string},\")\n",
    "\n",
    "        # retrieving availability status\n",
    "        try:\n",
    "            available = soup.find(\"div\", attrs={'id': 'availability'})\n",
    "            availability_string = available.find(\"span\").get_text(strip=True).replace(',', '') if available else \"NA\"\n",
    "        except AttributeError as e:\n",
    "            availability_string = \"NA\"\n",
    "            print(f\"Error retrieving availability: {e}\")\n",
    "        print(\"Availability = \", availability_string)\n",
    "        File.write(f\"{availability_string},\\n\")\n",
    "\n",
    "if __name__ == '__main__':\n",
    "    # opening our url file to access URLs\n",
    "    with open(\"C:/Users/darsh/Downloads/url.txt\", \"r\") as file:\n",
    "        # iterating over the urls\n",
    "        for links in file.readlines():\n",
    "            main(links.strip())\n"
   ]
  },
  {
   "cell_type": "code",
   "execution_count": null,
   "id": "afb1e607",
   "metadata": {},
   "outputs": [],
   "source": []
  }
 ],
 "metadata": {
  "kernelspec": {
   "display_name": "Python 3 (ipykernel)",
   "language": "python",
   "name": "python3"
  },
  "language_info": {
   "codemirror_mode": {
    "name": "ipython",
    "version": 3
   },
   "file_extension": ".py",
   "mimetype": "text/x-python",
   "name": "python",
   "nbconvert_exporter": "python",
   "pygments_lexer": "ipython3",
   "version": "3.9.13"
  }
 },
 "nbformat": 4,
 "nbformat_minor": 5
}
